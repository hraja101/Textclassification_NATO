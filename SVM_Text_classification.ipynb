{
 "cells": [
  {
   "cell_type": "code",
   "execution_count": 1,
   "metadata": {},
   "outputs": [],
   "source": [
    "import os\n",
    "import re\n",
    "import pandas as pd\n",
    "from sklearn.metrics import confusion_matrix\n",
    "import matplotlib.pyplot as plt"
   ]
  },
  {
   "cell_type": "code",
   "execution_count": 2,
   "metadata": {},
   "outputs": [],
   "source": [
    "path_Corpus = 'F:/Data/TextDL_Learn/TextCorpus/'\n",
    "corpa_name = path_Corpus + 'DL_Text_corpus_NATOupdated.txt'\n",
    "label_names = path_Corpus + 'Label_numbersNATO.txt'"
   ]
  },
  {
   "cell_type": "code",
   "execution_count": 3,
   "metadata": {},
   "outputs": [],
   "source": [
    "from sklearn.model_selection import train_test_split, cross_val_score\n",
    "from sklearn.feature_extraction.text import CountVectorizer\n",
    "from sklearn.feature_extraction.text import TfidfTransformer\n",
    "from sklearn.naive_bayes import MultinomialNB\n",
    "from sklearn.pipeline import Pipeline\n",
    "import numpy as np\n",
    "from sklearn.svm import LinearSVC, NuSVC, SVC\n",
    "from sklearn.model_selection import GridSearchCV"
   ]
  },
  {
   "cell_type": "code",
   "execution_count": 4,
   "metadata": {},
   "outputs": [],
   "source": [
    "#load corpus/docs and labels to list\n",
    "\n",
    "def clean_str(text):\n",
    "    text = text.replace(\".\", \"\")\n",
    "    text = re.sub(r'[0-9,\\n]',r'',text)\n",
    "    text = re.sub(r'\\s+',' ',text).strip()\n",
    "    return text\n",
    "\n",
    "with open(corpa_name) as file_doc:\n",
    "    text_list = file_doc.readlines() #get corpus --> list \n",
    "    text = [clean_str(x) for x in text_list]\n",
    "with open(label_names) as file_label:\n",
    "    labels_list = file_label.readlines() #get corpus labels --> list\n",
    "    label = list(map(lambda x:x.strip(),labels_list))"
   ]
  },
  {
   "cell_type": "code",
   "execution_count": 5,
   "metadata": {},
   "outputs": [
    {
     "name": "stdout",
     "output_type": "stream",
     "text": [
      "['0', '0', '0', '0', '0', '0', '0', '0', '0', '0']\n",
      "['th uth aprd resolution on the release of economic and industrial information the conference of national information officials from the northatlantic treaty countries at its meeting in london on thuth april unanimously agreed on the importance for their work of the release to the fullest extent compatible with security of information on the economic and industrial aspects of nato and of effective working arrangements within nato for regular and continuous supply of such information the conference recommended that the resolution be transmitted to the appropriate economic and industrial agencies belgrave square london declassified public disclosure dclassifi miseen lecture publique', 'qth april hato itokffaiiohal ifrto iaf icn th i hth aoril resolution on initiatlvo in the counter prooa ganda filid the conference of national information officiais at its meeting in london on th ith april ijjl conoioering that the soviet propaganda machine iiaa for too long had the o tensive in carrying on aggressive campaifans on vorldvvide basis by distorting facts and ovn the nning of words agrees on the desirability of adopting effactive mevvrcs designed to turn the present defiisivc position of nat countries in the counterpropaganda field into aetivc initiatives likely to make as trong impression on public opinions belave square london s r declassified public disclosure dclassifi miseen lecture publique']\n"
     ]
    }
   ],
   "source": [
    "print(label[:10])\n",
    "\n",
    "print(text[56:58])\n",
    "\n",
    "X_train, X_test, y_train, y_test = train_test_split(text, label, test_size=0.2, random_state=0)\n"
   ]
  },
  {
   "cell_type": "code",
   "execution_count": 6,
   "metadata": {},
   "outputs": [
    {
     "data": {
      "text/plain": [
       "(17498, 297126)"
      ]
     },
     "execution_count": 6,
     "metadata": {},
     "output_type": "execute_result"
    }
   ],
   "source": [
    "count_vect = CountVectorizer()\n",
    "content = count_vect.fit_transform(text)\n",
    "content.shape"
   ]
  },
  {
   "cell_type": "code",
   "execution_count": 7,
   "metadata": {},
   "outputs": [
    {
     "data": {
      "text/plain": [
       "(17498, 297126)"
      ]
     },
     "execution_count": 7,
     "metadata": {},
     "output_type": "execute_result"
    }
   ],
   "source": [
    "tfidf_transformer = TfidfTransformer()\n",
    "content_tfidf = tfidf_transformer.fit_transform(content)\n",
    "content_tfidf.shape"
   ]
  },
  {
   "cell_type": "code",
   "execution_count": 8,
   "metadata": {},
   "outputs": [
    {
     "name": "stdout",
     "output_type": "stream",
     "text": [
      "total train docs 13998\n",
      "total train docs 3500\n"
     ]
    }
   ],
   "source": [
    "print(\"total train docs\",len(X_train))\n",
    "print(\"total train docs\",len(X_test))"
   ]
  },
  {
   "cell_type": "code",
   "execution_count": 9,
   "metadata": {},
   "outputs": [],
   "source": [
    "from sklearn.pipeline import Pipeline\n",
    "from sklearn.linear_model import SGDClassifier\n",
    "\n",
    "steps = [('vectorizer', CountVectorizer(stop_words='english')), ('tfidf', TfidfTransformer()), \n",
    "         ('clf-svm', SGDClassifier(loss='hinge', penalty='l2',alpha=1e-3, n_iter=5, random_state=42))]\n",
    "\n",
    "model = Pipeline(steps)\n",
    "#y_train= np.reshape(y_train,(1,14876))\n",
    "#y_test= np.reshape(y_test,(1,3720))"
   ]
  },
  {
   "cell_type": "code",
   "execution_count": 10,
   "metadata": {},
   "outputs": [
    {
     "name": "stderr",
     "output_type": "stream",
     "text": [
      "C:\\Users\\raj99\\Anaconda3\\lib\\site-packages\\sklearn\\linear_model\\stochastic_gradient.py:152: DeprecationWarning: n_iter parameter is deprecated in 0.19 and will be removed in 0.21. Use max_iter and tol instead.\n",
      "  DeprecationWarning)\n"
     ]
    },
    {
     "data": {
      "text/plain": [
       "0.622"
      ]
     },
     "execution_count": 10,
     "metadata": {},
     "output_type": "execute_result"
    }
   ],
   "source": [
    "#paramater selection\n",
    "#getting errors with SVC, asking for nu values -->yet to look\n",
    "#checking linear svm (sdg)\n",
    "\n",
    "model_svm = model.fit(X_train, y_train)\n",
    "predicted_svm = model_svm.predict(X_test)\n",
    "np.mean(predicted_svm == y_test)\n"
   ]
  },
  {
   "cell_type": "code",
   "execution_count": 11,
   "metadata": {},
   "outputs": [],
   "source": [
    "# 62.3% accuracy for sdg classifier , linear svm \n",
    "\n",
    "#building new model with SVM, since there is class imbalance problem \n",
    "\n",
    "from sklearn.multiclass import OneVsRestClassifier\n",
    "\n",
    "model_Newver = Pipeline([('vectorizer', CountVectorizer(stop_words='english')), ('tfidf', TfidfTransformer()),\n",
    "    ('clf-onevs', OneVsRestClassifier(LinearSVC(class_weight=\"balanced\")))])"
   ]
  },
  {
   "cell_type": "code",
   "execution_count": 12,
   "metadata": {},
   "outputs": [
    {
     "data": {
      "text/plain": [
       "0.7128571428571429"
      ]
     },
     "execution_count": 12,
     "metadata": {},
     "output_type": "execute_result"
    }
   ],
   "source": [
    "#fit the new model onevs rest\n",
    "# also build parameters\n",
    "\n",
    "model_ovr = model_Newver.fit(X_train, y_train)\n",
    "predicted_ovr = model_ovr.predict(X_test)\n",
    "np.mean(predicted_ovr == y_test)"
   ]
  },
  {
   "cell_type": "code",
   "execution_count": 13,
   "metadata": {},
   "outputs": [
    {
     "name": "stderr",
     "output_type": "stream",
     "text": [
      "C:\\Users\\raj99\\Anaconda3\\lib\\site-packages\\sklearn\\model_selection\\_split.py:2053: FutureWarning: You should specify a value for 'cv' instead of relying on the default value. The default value will change from 3 to 5 in version 0.22.\n",
      "  warnings.warn(CV_WARNING, FutureWarning)\n"
     ]
    },
    {
     "name": "stdout",
     "output_type": "stream",
     "text": [
      "0.710744392056008\n",
      "{'tfidf__use_idf': True, 'vectorizer__ngram_range': (1, 2)}\n"
     ]
    }
   ],
   "source": [
    "#Seems to perform better, \n",
    "#lets do paramater selection\n",
    "\n",
    "\n",
    "parameters_ovs = {'vectorizer__ngram_range': [(1, 1), (1, 2),(2,2)],\n",
    "               'tfidf__use_idf': (True, False)}\n",
    "\n",
    "gs_clf_ovs = GridSearchCV(model_Newver, parameters_ovs, n_jobs=-1)\n",
    "gs_clf_ovs = gs_clf_ovs.fit(X_train, y_train)\n",
    "\n",
    "print(gs_clf_ovs.best_score_)\n",
    "print(gs_clf_ovs.best_params_)\n"
   ]
  },
  {
   "cell_type": "code",
   "execution_count": 14,
   "metadata": {},
   "outputs": [
    {
     "name": "stderr",
     "output_type": "stream",
     "text": [
      "C:\\Users\\raj99\\Anaconda3\\lib\\site-packages\\sklearn\\model_selection\\_split.py:2053: FutureWarning: You should specify a value for 'cv' instead of relying on the default value. The default value will change from 3 to 5 in version 0.22.\n",
      "  warnings.warn(CV_WARNING, FutureWarning)\n",
      "C:\\Users\\raj99\\Anaconda3\\lib\\site-packages\\sklearn\\linear_model\\stochastic_gradient.py:152: DeprecationWarning: n_iter parameter is deprecated in 0.19 and will be removed in 0.21. Use max_iter and tol instead.\n",
      "  DeprecationWarning)\n"
     ]
    },
    {
     "name": "stdout",
     "output_type": "stream",
     "text": [
      "0.6348764109158451\n",
      "{'clf-svm__alpha': 0.001, 'tfidf__use_idf': False, 'vectorizer__ngram_range': (1, 1)}\n"
     ]
    }
   ],
   "source": [
    "#learn parameters sdg\n",
    "\n",
    "\n",
    "parameters = {'vectorizer__ngram_range': [(1, 1), (1, 2),(2,2)],\n",
    "               'tfidf__use_idf': (True, False), 'clf-svm__alpha': (1e-2, 1e-3)}\n",
    "gs_clf_svm = GridSearchCV(model, parameters, n_jobs=-1)\n",
    "gs_clf_svm = gs_clf_svm.fit(X_train, y_train)\n",
    "print(gs_clf_svm.best_score_)\n",
    "print(gs_clf_svm.best_params_)\n",
    "\n",
    "\n",
    "#got 64% accuracy with parameter tuning and strange result on tfidf"
   ]
  },
  {
   "cell_type": "code",
   "execution_count": 18,
   "metadata": {},
   "outputs": [],
   "source": [
    "#fit the model with new params one vs rest\n",
    "\n",
    "#preparing the final pipeline using the selected parameters\n",
    "\n",
    "model_ovr = Pipeline([('vectorizer', CountVectorizer(ngram_range=(1,2), stop_words='english')),\n",
    "    ('tfidf', TfidfTransformer(use_idf=True)),\n",
    "    ('clf', OneVsRestClassifier(LinearSVC(class_weight=\"balanced\")))])\n",
    "\n",
    "#fit model with training data\n",
    "model_ovr.fit(X_train, y_train)\n",
    "\n",
    "#evaluation on test data\n",
    "pred = model_ovr.predict(X_test)\n",
    "\n",
    "from sklearn.metrics import confusion_matrix, accuracy_score\n",
    "\n",
    "cm_sdg = confusion_matrix(pred, y_test)\n",
    "\n",
    "accuracy = np.trace(cm_sdg) / float(np.sum(cm_sdg))\n",
    "misclass = 1 - accuracy\n"
   ]
  },
  {
   "cell_type": "code",
   "execution_count": 19,
   "metadata": {},
   "outputs": [],
   "source": [
    "import itertools\n",
    "def plot_confusion_matrix(cm,accuracy,misclass,\n",
    "                          target_names,\n",
    "                          title='Confusion matrix',\n",
    "                          cmap=None,\n",
    "                          normalize=True):\n",
    "    if cmap is None:\n",
    "        cmap = plt.get_cmap('Blues')\n",
    "\n",
    "    plt.figure(figsize=(8, 6))\n",
    "    plt.imshow(cm, interpolation='nearest', cmap=cmap)\n",
    "    plt.title(title)\n",
    "    plt.colorbar()\n",
    "\n",
    "    if target_names is not None:\n",
    "        tick_marks = np.arange(len(target_names))\n",
    "        plt.xticks(tick_marks, target_names, rotation=45)\n",
    "        plt.yticks(tick_marks, target_names)\n",
    "\n",
    "    if normalize:\n",
    "        cm = cm.astype('float') / cm.sum(axis=1)[:, np.newaxis]\n",
    "\n",
    "\n",
    "    thresh = cm.max() / 1.5 if normalize else cm.max() / 2\n",
    "    for i, j in itertools.product(range(cm.shape[0]), range(cm.shape[1])):\n",
    "        if normalize:\n",
    "            plt.text(j, i, \"{:0.4f}\".format(cm[i, j]),\n",
    "                     horizontalalignment=\"center\",\n",
    "                     color=\"white\" if cm[i, j] > thresh else \"black\")\n",
    "        else:\n",
    "            plt.text(j, i, \"{:,}\".format(cm[i, j]),\n",
    "                     horizontalalignment=\"center\",\n",
    "                     color=\"white\" if cm[i, j] > thresh else \"black\")\n",
    "\n",
    "\n",
    "    plt.tight_layout()\n",
    "    plt.ylabel('True label')\n",
    "    plt.xlabel('Predicted label\\naccuracy={:0.4f}; misclass={:0.4f}'.format(accuracy, misclass))\n",
    "    plt.show()"
   ]
  },
  {
   "cell_type": "code",
   "execution_count": 20,
   "metadata": {},
   "outputs": [
    {
     "name": "stderr",
     "output_type": "stream",
     "text": [
      "C:\\Users\\raj99\\Anaconda3\\lib\\site-packages\\sklearn\\linear_model\\stochastic_gradient.py:152: DeprecationWarning: n_iter parameter is deprecated in 0.19 and will be removed in 0.21. Use max_iter and tol instead.\n",
      "  DeprecationWarning)\n"
     ]
    }
   ],
   "source": [
    "#fit the model with new params sdg\n",
    "\n",
    "#preparing the final pipeline using the selected parameters\n",
    "\n",
    "model_svm = Pipeline([('vectorizer', CountVectorizer(ngram_range=(1,1), stop_words='english')), \n",
    "                      ('tfidf', TfidfTransformer(use_idf=False)), \n",
    "         ('clf-svm', SGDClassifier(loss='hinge', penalty='l2',alpha=0.001, n_iter=5, random_state=42))])\n",
    "\n",
    "\n",
    "#fit model with training data\n",
    "model_svm.fit(X_train, y_train)\n",
    "\n",
    "#evaluation on test data\n",
    "pred_svm = model_svm.predict(X_test)\n",
    "\n",
    "\n",
    "cm_svm =confusion_matrix(pred_svm, y_test)\n",
    "accuracy_svm = np.trace(cm_svm) / float(np.sum(cm_svm))\n",
    "misclass_svm = 1 - accuracy\n"
   ]
  },
  {
   "cell_type": "code",
   "execution_count": 21,
   "metadata": {},
   "outputs": [
    {
     "name": "stdout",
     "output_type": "stream",
     "text": [
      "one vs rest:  73.54285714285714\n",
      "SDG:  64.02857142857142\n"
     ]
    }
   ],
   "source": [
    "print(\"one vs rest: \", 100* (np.mean(pred == y_test)))\n",
    "print(\"SDG: \", 100* (np.mean(pred_svm == y_test)))"
   ]
  },
  {
   "cell_type": "code",
   "execution_count": 23,
   "metadata": {},
   "outputs": [
    {
     "data": {
      "image/png": "[encoded data removed]",
      "text/plain": [
       "<Figure size 576x432 with 2 Axes>"
      ]
     },
     "metadata": {
      "needs_background": "light"
     },
     "output_type": "display_data"
    }
   ],
   "source": [
    "plot_confusion_matrix(cm_sdg,accuracy,misclass, normalize = False, \n",
    "                      target_names = ['unclassified', 'confidential', 'secret', 'restricted'], \n",
    "                      title = \"Confusion Matrix\" )"
   ]
  },
  {
   "cell_type": "code",
   "execution_count": 24,
   "metadata": {},
   "outputs": [
    {
     "data": {
      "image/png": "[encoded data removed]",
      "text/plain": [
       "<Figure size 576x432 with 2 Axes>"
      ]
     },
     "metadata": {
      "needs_background": "light"
     },
     "output_type": "display_data"
    }
   ],
   "source": [
    "plot_confusion_matrix(cm_svm,accuracy_svm,misclass_svm, normalize = False, \n",
    "                      target_names = ['unclassified', 'confidential', 'secret', 'restricted'], \n",
    "                      title = \"Confusion Matrix\" )"
   ]
  },
  {
   "cell_type": "code",
   "execution_count": null,
   "metadata": {},
   "outputs": [],
   "source": []
  }
 ],
 "metadata": {
  "kernelspec": {
   "display_name": "Python 3",
   "language": "python",
   "name": "python3"
  },
  "language_info": {
   "codemirror_mode": {
    "name": "ipython",
    "version": 3
   },
   "file_extension": ".py",
   "mimetype": "text/x-python",
   "name": "python",
   "nbconvert_exporter": "python",
   "pygments_lexer": "ipython3",
   "version": "3.6.8"
  }
 },
 "nbformat": 4,
 "nbformat_minor": 2
}
