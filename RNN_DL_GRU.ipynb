{
 "cells": [
  {
   "cell_type": "code",
   "execution_count": 1,
   "metadata": {},
   "outputs": [],
   "source": [
    "import os\n",
    "os.environ['KERAS_BACKEND'] = 'tensorflow'"
   ]
  },
  {
   "cell_type": "code",
   "execution_count": 2,
   "metadata": {},
   "outputs": [
    {
     "name": "stdout",
     "output_type": "stream",
     "text": [
      "[name: \"/device:CPU:0\"\n",
      "device_type: \"CPU\"\n",
      "memory_limit: 268435456\n",
      "locality {\n",
      "}\n",
      "incarnation: 2458740239870273860\n",
      ", name: \"/device:GPU:0\"\n",
      "device_type: \"GPU\"\n",
      "memory_limit: 3150367948\n",
      "locality {\n",
      "  bus_id: 1\n",
      "  links {\n",
      "  }\n",
      "}\n",
      "incarnation: 4013066312909486213\n",
      "physical_device_desc: \"device: 0, name: GeForce GTX 1050 Ti, pci bus id: 0000:01:00.0, compute capability: 6.1\"\n",
      "]\n"
     ]
    }
   ],
   "source": [
    "import numpy as np\n",
    "from tensorflow.python.client import device_lib\n",
    "\n",
    "print(device_lib.list_local_devices())"
   ]
  },
  {
   "cell_type": "code",
   "execution_count": 3,
   "metadata": {},
   "outputs": [
    {
     "name": "stderr",
     "output_type": "stream",
     "text": [
      "Using TensorFlow backend.\n"
     ]
    },
    {
     "data": {
      "text/plain": [
       "['/job:localhost/replica:0/task:0/device:GPU:0']"
      ]
     },
     "execution_count": 3,
     "metadata": {},
     "output_type": "execute_result"
    }
   ],
   "source": [
    "from keras import backend as K\n",
    "from keras.utils.np_utils import to_categorical\n",
    "from keras.callbacks import EarlyStopping\n",
    "from sklearn.metrics import confusion_matrix\n",
    "import matplotlib.pyplot as plt\n",
    "K.tensorflow_backend._get_available_gpus()"
   ]
  },
  {
   "cell_type": "code",
   "execution_count": 4,
   "metadata": {},
   "outputs": [],
   "source": [
    "import re\n",
    "import tensorflow as tf\n",
    "from keras.models import Sequential\n",
    "from sklearn.model_selection import train_test_split, cross_val_score\n",
    "from sklearn.feature_extraction.text import CountVectorizer\n",
    "from keras.preprocessing.text import Tokenizer\n",
    "from keras.preprocessing.sequence import pad_sequences\n",
    "from keras.models import Sequential\n",
    "from keras.models import Model\n",
    "from keras.layers import Dense, Input, Flatten\n",
    "from keras.layers import Conv1D, MaxPooling1D, Embedding, merge, Dropout, LSTM, GRU, Bidirectional,SimpleRNN"
   ]
  },
  {
   "cell_type": "code",
   "execution_count": 5,
   "metadata": {},
   "outputs": [],
   "source": [
    "if __name__ == \"__main__\":\n",
    "\n",
    "    MAX_SEQUENCE_LENGTH = 500 # Maximum sequance lenght 500 words\n",
    "    MAX_NB_WORDS = 75000 # Maximum number of unique words\n",
    "    EMBEDDING_DIM = 200 #embedding dimension, glove version{50, 100,200} for experiments\n",
    "    batch_size_val = 55 # batch size for epochs\n",
    "    epochs = 10 # for cross validation {chnage the epochs for experiments}\n",
    "\n",
    "    np.set_printoptions(threshold=np.inf)\n",
    "    # load data and label\n",
    "    \n",
    "    path_Corpus = 'F:/Data/TextDL_Learn/TextCorpus/'\n",
    "    Glove_dir = 'F:/Data/TextDL_Learn/Glove/'\n",
    "    corpa_name = path_Corpus + 'DL_Text_corpus_NATOupdated.txt'\n",
    "    label_values = path_Corpus + 'Label_numbersNATO.txt'\n",
    "\n",
    "\n",
    "    with open(corpa_name) as corpus:\n",
    "        texts = corpus.readlines() #get corpus --> list \n",
    "    with open(label_values) as flabel:\n",
    "        labels = flabel.readlines() #get corpus labels --> list\n",
    "        Label = np.matrix(labels, dtype=int)\n",
    "        Label = np.transpose(Label)\n",
    "    "
   ]
  },
  {
   "cell_type": "code",
   "execution_count": 6,
   "metadata": {},
   "outputs": [
    {
     "name": "stdout",
     "output_type": "stream",
     "text": [
      "Found 273612 unique tokens.\n"
     ]
    }
   ],
   "source": [
    "        #tokenize\n",
    "\n",
    "    tokenizer = Tokenizer(num_words=MAX_NB_WORDS)\n",
    "    tokenizer.fit_on_texts(texts)\n",
    "    sequences = tokenizer.texts_to_sequences(texts)\n",
    "    word_index = tokenizer.word_index\n",
    "    print('Found %s unique tokens.' % len(word_index))\n",
    "    #print('labels\\n', Label)"
   ]
  },
  {
   "cell_type": "code",
   "execution_count": 7,
   "metadata": {},
   "outputs": [
    {
     "name": "stdout",
     "output_type": "stream",
     "text": [
      "Shape of data tensor: (17498, 500)\n",
      "Shape of label tensor: (17498, 1)\n"
     ]
    }
   ],
   "source": [
    "    content = pad_sequences(sequences, maxlen=MAX_SEQUENCE_LENGTH)\n",
    "    #Label = to_categorical(np.asarray(Label))  #to generate a hot encoder\n",
    "    print('Shape of data tensor:', content.shape)\n",
    "    print('Shape of label tensor:', Label.shape)"
   ]
  },
  {
   "cell_type": "code",
   "execution_count": 8,
   "metadata": {},
   "outputs": [
    {
     "name": "stdout",
     "output_type": "stream",
     "text": [
      "[[0]\n",
      " [0]\n",
      " [1]\n",
      " [0]\n",
      " [1]]\n"
     ]
    }
   ],
   "source": [
    "    #print first few labels\n",
    "    #print(content[:5])\n",
    "    print(Label[50:55])"
   ]
  },
  {
   "cell_type": "code",
   "execution_count": 9,
   "metadata": {},
   "outputs": [
    {
     "name": "stdout",
     "output_type": "stream",
     "text": [
      "(17498, 500)\n",
      "(17498, 1)\n"
     ]
    }
   ],
   "source": [
    "    #evenly spaced interval , tensor\n",
    "    indices = np.arange(content.shape[0])\n",
    "    np.random.shuffle(indices)\n",
    "    content = content[indices]\n",
    "    Label = Label[indices]\n",
    "    print(content.shape)\n",
    "    print(Label.shape)"
   ]
  },
  {
   "cell_type": "code",
   "execution_count": 10,
   "metadata": {},
   "outputs": [],
   "source": [
    "    #train and test split 80% train and remaining for test samples\n",
    "    #Of the 80% test use 10% for validation\n",
    "    X_train, X_test, y_train, y_test = train_test_split(content, Label, test_size=0.2, random_state=0)"
   ]
  },
  {
   "cell_type": "code",
   "execution_count": 11,
   "metadata": {},
   "outputs": [
    {
     "name": "stdout",
     "output_type": "stream",
     "text": [
      "Training docs:  13998\n",
      "Testing docs:  3500\n"
     ]
    }
   ],
   "source": [
    "# view the test count and sample\n",
    "    #print(\"total test count\", X_test.shape)\n",
    "    #print(\"sample train data \", X_train[:1])\n",
    "    #print(\"sample test data \", X_test[:1])\n",
    "    #print(\"sample train label \", y_train[:1])\n",
    "    #print(\"sample test label \", y_test[:1])\n",
    "    print(\"Training docs: \", len(X_train) )\n",
    "    print(\"Testing docs: \", len(X_test))"
   ]
  },
  {
   "cell_type": "code",
   "execution_count": 12,
   "metadata": {},
   "outputs": [
    {
     "name": "stdout",
     "output_type": "stream",
     "text": [
      "Total 400000 word vectors.\n"
     ]
    }
   ],
   "source": [
    "# use glove embeddings, in dictionary\n",
    "# first word of line in Glove is word level and next are coeffs\n",
    "# get all words --> word list, corrosponding coeffs at ---> coefs list\n",
    "# be cautious, if no word match from glove with corpus???\n",
    "    embeddings_index = {}\n",
    "    Glove_200d = Glove_dir + 'glove.6B.200d.txt'\n",
    "    with open(Glove_200d, encoding = \"utf-8\") as f:\n",
    "        for line in f:\n",
    "    #        print(line)\n",
    "            values = line.split()\n",
    "            word = values[0]\n",
    "            try:\n",
    "                coefs = np.asarray(values[1:], dtype='float32')\n",
    "            except:\n",
    "                print(\"Warnning\"+str(values)+\" in\" + str(line))\n",
    "            embeddings_index[word] = coefs\n",
    "\n",
    "    print('Total %s word vectors.' % len(embeddings_index))   "
   ]
  },
  {
   "cell_type": "code",
   "execution_count": 13,
   "metadata": {},
   "outputs": [
    {
     "name": "stdout",
     "output_type": "stream",
     "text": [
      "sample test label  [[3]]\n"
     ]
    }
   ],
   "source": [
    "    #print(\"sample embed for word\",embeddings_index['canada'])\n",
    "    print(\"sample test label \", y_test[:1])"
   ]
  },
  {
   "cell_type": "code",
   "execution_count": 14,
   "metadata": {},
   "outputs": [
    {
     "name": "stdout",
     "output_type": "stream",
     "text": [
      "WARNING:tensorflow:From C:\\Users\\raj99\\Anaconda3\\lib\\site-packages\\tensorflow\\python\\framework\\op_def_library.py:263: colocate_with (from tensorflow.python.framework.ops) is deprecated and will be removed in a future version.\n",
      "Instructions for updating:\n",
      "Colocations handled automatically by placer.\n",
      "WARNING:tensorflow:From C:\\Users\\raj99\\Anaconda3\\lib\\site-packages\\keras\\backend\\tensorflow_backend.py:3445: calling dropout (from tensorflow.python.ops.nn_ops) with keep_prob is deprecated and will be removed in a future version.\n",
      "Instructions for updating:\n",
      "Please use `rate` instead of `keep_prob`. Rate should be set to `rate = 1 - keep_prob`.\n"
     ]
    }
   ],
   "source": [
    "    #model defination\n",
    "    model = Sequential()\n",
    "    embedding_matrix = np.random.random((len(word_index) + 1, EMBEDDING_DIM))\n",
    "    for word, i in word_index.items():\n",
    "        embedding_vector = embeddings_index.get(word)\n",
    "        if embedding_vector is not None:\n",
    "            # words not found in embedding index will be all-zeros.\n",
    "            embedding_matrix[i] = embedding_vector\n",
    "    model.add(Embedding(len(word_index) + 1,\n",
    "                                EMBEDDING_DIM,\n",
    "                                weights=[embedding_matrix],\n",
    "                                input_length=MAX_SEQUENCE_LENGTH,\n",
    "                                trainable=True))\n",
    "    model.add(GRU(100,dropout=0.2, recurrent_dropout=0.2))\n",
    "    model.add(Dense(4, activation='softmax'))\n",
    "    model.compile(loss='sparse_categorical_crossentropy',\n",
    "                  optimizer='rmsprop',\n",
    "                  metrics=['acc'])\n",
    " "
   ]
  },
  {
   "cell_type": "code",
   "execution_count": 15,
   "metadata": {},
   "outputs": [
    {
     "name": "stdout",
     "output_type": "stream",
     "text": [
      "model fitting - GRU LSTM\n",
      "_________________________________________________________________\n",
      "Layer (type)                 Output Shape              Param #   \n",
      "=================================================================\n",
      "embedding_1 (Embedding)      (None, 500, 200)          54722600  \n",
      "_________________________________________________________________\n",
      "gru_1 (GRU)                  (None, 100)               90300     \n",
      "_________________________________________________________________\n",
      "dense_1 (Dense)              (None, 4)                 404       \n",
      "=================================================================\n",
      "Total params: 54,813,304\n",
      "Trainable params: 54,813,304\n",
      "Non-trainable params: 0\n",
      "_________________________________________________________________\n"
     ]
    }
   ],
   "source": [
    "    print(\"model fitting - GRU LSTM\")\n",
    "    model.summary()"
   ]
  },
  {
   "cell_type": "code",
   "execution_count": 16,
   "metadata": {},
   "outputs": [
    {
     "name": "stdout",
     "output_type": "stream",
     "text": [
      "Total docs trained  12598\n",
      "Total validation docs for verify 1400\n"
     ]
    }
   ],
   "source": [
    "    #split training to --> train and validate sets\n",
    "    X_newtrain, X_newval, y_newtrain, y_newval = train_test_split(X_train, y_train, test_size=0.1, random_state=10)\n",
    "    \n",
    "    # view the  count and sample\n",
    "    print(\"Total docs trained \", len(X_newtrain) )\n",
    "    print(\"Total validation docs for verify\",len(X_newval))\n",
    "    \n",
    "    early_stopping = EarlyStopping(monitor='val_loss', patience=0, verbose=1, mode='auto')"
   ]
  },
  {
   "cell_type": "code",
   "execution_count": 26,
   "metadata": {},
   "outputs": [
    {
     "name": "stdout",
     "output_type": "stream",
     "text": [
      "Train on 12598 samples, validate on 1400 samples\n",
      "Epoch 1/10\n",
      "12598/12598 [==============================] - 228s 18ms/step - loss: 0.6288 - acc: 0.7660 - val_loss: 0.7733 - val_acc: 0.7236\n",
      "Epoch 2/10\n",
      "12598/12598 [==============================] - 220s 17ms/step - loss: 0.5688 - acc: 0.7910 - val_loss: 0.7856 - val_acc: 0.7336\n",
      "Epoch 00002: early stopping\n"
     ]
    },
    {
     "data": {
      "text/plain": [
       "<keras.callbacks.History at 0x2a83c0cb860>"
      ]
     },
     "execution_count": 26,
     "metadata": {},
     "output_type": "execute_result"
    }
   ],
   "source": [
    "    \n",
    "    model.fit(X_newtrain, y_newtrain[:,0],\n",
    "                  validation_data=(X_newval, y_newval[:,0]),\n",
    "                  epochs=epochs,\n",
    "                  verbose=1,\n",
    "                  batch_size=batch_size_val,\n",
    "                  callbacks=[early_stopping])"
   ]
  },
  {
   "cell_type": "code",
   "execution_count": 27,
   "metadata": {},
   "outputs": [
    {
     "name": "stdout",
     "output_type": "stream",
     "text": [
      "3500/3500 [==============================] - 21s 6ms/step\n"
     ]
    }
   ],
   "source": [
    "score = model.evaluate(X_test, y_test,\n",
    "                       batch_size=50, verbose=1)"
   ]
  },
  {
   "cell_type": "code",
   "execution_count": 28,
   "metadata": {},
   "outputs": [
    {
     "name": "stdout",
     "output_type": "stream",
     "text": [
      "Test loss:  0.7422635291303907 ,Test accuracy: 0.7385714292526245\n"
     ]
    }
   ],
   "source": [
    "print(\"Test loss: \",score[0],',Test accuracy:', score[1])"
   ]
  },
  {
   "cell_type": "code",
   "execution_count": 29,
   "metadata": {},
   "outputs": [
    {
     "name": "stdout",
     "output_type": "stream",
     "text": [
      "3500/3500 [==============================] - 34s 10ms/step\n"
     ]
    }
   ],
   "source": [
    "class_prediction = model.predict(X_test, verbose= 1)"
   ]
  },
  {
   "cell_type": "code",
   "execution_count": 30,
   "metadata": {},
   "outputs": [
    {
     "name": "stdout",
     "output_type": "stream",
     "text": [
      "generated prediction shape: (3500, 4)\n",
      "converted prediction shape: (3500,)\n",
      "current test shape: (3500, 1)\n"
     ]
    }
   ],
   "source": [
    "y_pred = class_prediction.argmax(axis=1)\n",
    "print(\"generated prediction shape:\",class_prediction.shape)\n",
    "print(\"converted prediction shape:\",y_pred.shape)\n",
    "print(\"current test shape:\",y_test.shape)"
   ]
  },
  {
   "cell_type": "code",
   "execution_count": 31,
   "metadata": {},
   "outputs": [
    {
     "name": "stdout",
     "output_type": "stream",
     "text": [
      "(3500, 1)\n"
     ]
    }
   ],
   "source": [
    "new_y = np.reshape(y_pred,(y_test.shape))\n",
    "#print(new_y)\n",
    "print(new_y.shape)"
   ]
  },
  {
   "cell_type": "code",
   "execution_count": 32,
   "metadata": {},
   "outputs": [
    {
     "name": "stdout",
     "output_type": "stream",
     "text": [
      "[[1574  114   32   63]\n",
      " [ 236  505   16   24]\n",
      " [ 180   19  191    8]\n",
      " [ 172   43    8  315]]\n",
      "0.7385714285714285\n"
     ]
    }
   ],
   "source": [
    "#accuracy and confusion matrix\n",
    "\n",
    "cm = confusion_matrix(y_test, new_y)\n",
    "print(cm)\n",
    "accuracy = np.trace(cm) / float(np.sum(cm))\n",
    "misclass = 1 - accuracy\n",
    "\n",
    "print(accuracy)"
   ]
  },
  {
   "cell_type": "code",
   "execution_count": 33,
   "metadata": {},
   "outputs": [],
   "source": [
    "import itertools\n",
    "def plot_confusion_matrix(cm,accuracy,misclass,\n",
    "                          target_names,\n",
    "                          title='Confusion matrix',\n",
    "                          cmap=None,\n",
    "                          normalize=True):\n",
    "    if cmap is None:\n",
    "        cmap = plt.get_cmap('Blues')\n",
    "\n",
    "    plt.figure(figsize=(8, 6))\n",
    "    plt.imshow(cm, interpolation='nearest', cmap=cmap)\n",
    "    plt.title(title)\n",
    "    plt.colorbar()\n",
    "\n",
    "    if target_names is not None:\n",
    "        tick_marks = np.arange(len(target_names))\n",
    "        plt.xticks(tick_marks, target_names, rotation=45)\n",
    "        plt.yticks(tick_marks, target_names)\n",
    "\n",
    "    if normalize:\n",
    "        cm = cm.astype('float') / cm.sum(axis=1)[:, np.newaxis]\n",
    "\n",
    "\n",
    "    thresh = cm.max() / 1.5 if normalize else cm.max() / 2\n",
    "    for i, j in itertools.product(range(cm.shape[0]), range(cm.shape[1])):\n",
    "        if normalize:\n",
    "            plt.text(j, i, \"{:0.4f}\".format(cm[i, j]),\n",
    "                     horizontalalignment=\"center\",\n",
    "                     color=\"white\" if cm[i, j] > thresh else \"black\")\n",
    "        else:\n",
    "            plt.text(j, i, \"{:,}\".format(cm[i, j]),\n",
    "                     horizontalalignment=\"center\",\n",
    "                     color=\"white\" if cm[i, j] > thresh else \"black\")\n",
    "\n",
    "\n",
    "    plt.tight_layout()\n",
    "    plt.ylabel('True label')\n",
    "    plt.xlabel('Predicted label\\naccuracy={:0.4f}; misclass={:0.4f}'.format(accuracy, misclass))\n",
    "    plt.show()\n"
   ]
  },
  {
   "cell_type": "code",
   "execution_count": 34,
   "metadata": {},
   "outputs": [
    {
     "data": {
      "image/png": "[encoded data removed]",
      "text/plain": [
       "<Figure size 576x432 with 2 Axes>"
      ]
     },
     "metadata": {
      "needs_background": "light"
     },
     "output_type": "display_data"
    }
   ],
   "source": [
    "plot_confusion_matrix(cm,accuracy,misclass, normalize = False, \n",
    "                      target_names = ['unclassified', 'confidential', 'secret', 'restricted'], \n",
    "                      title = \"Confusion Matrix\" )"
   ]
  },
  {
   "cell_type": "code",
   "execution_count": null,
   "metadata": {},
   "outputs": [],
   "source": []
  }
 ],
 "metadata": {
  "kernelspec": {
   "display_name": "Python 3",
   "language": "python",
   "name": "python3"
  },
  "language_info": {
   "codemirror_mode": {
    "name": "ipython",
    "version": 3
   },
   "file_extension": ".py",
   "mimetype": "text/x-python",
   "name": "python",
   "nbconvert_exporter": "python",
   "pygments_lexer": "ipython3",
   "version": "3.6.8"
  }
 },
 "nbformat": 4,
 "nbformat_minor": 2
}
